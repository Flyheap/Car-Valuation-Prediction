{
  "cells": [
    {
      "cell_type": "code",
      "execution_count": null,
      "metadata": {
        "id": "tGdAZMxgatP4"
      },
      "outputs": [],
      "source": []
    },
    {
      "cell_type": "code",
      "execution_count": 2,
      "metadata": {
        "id": "l-DE8z4tVcZn"
      },
      "outputs": [],
      "source": [
        "import numpy as np\n",
        "import pandas as pd\n",
        "import matplotlib.pyplot as plt\n",
        "import seaborn as sns\n",
        "from sklearn import linear_model\n",
        "from sklearn.linear_model import LinearRegression\n",
        "\n",
        "# reading the dataset\n",
        "cars = pd.read_csv(\"machine_learning/Regression/CarPrice_Assignment.csv\")"
      ]
    },
    {
      "cell_type": "code",
      "execution_count": null,
      "metadata": {
        "id": "8F-tAyZOb2Iw"
      },
      "outputs": [],
      "source": [
        "# summary of the dataset: 205 rows, 26 columns, no null values\n",
        "print(cars.info())"
      ]
    },
    {
      "cell_type": "code",
      "execution_count": null,
      "metadata": {
        "id": "ryshKpa2b6_y"
      },
      "outputs": [],
      "source": [
        "cars.head()"
      ]
    },
    {
      "cell_type": "code",
      "execution_count": null,
      "metadata": {
        "id": "gL6e47WUcD3y"
      },
      "outputs": [],
      "source": [
        "# symboling: -2 (least risky) to +3 most risky\n",
        "# Most cars are 0,1,2\n",
        "cars['symboling'].astype('category').value_counts()"
      ]
    },
    {
      "cell_type": "code",
      "execution_count": null,
      "metadata": {
        "id": "amriHmgncIm6"
      },
      "outputs": [],
      "source": [
        "# aspiration: An (internal combustion) engine property showing \n",
        "# whether the oxygen intake is through standard (atmospheric pressure)\n",
        "# or through turbocharging (pressurised oxygen intake)\n",
        "\n",
        "cars['aspiration'].astype('category').value_counts()"
      ]
    },
    {
      "cell_type": "code",
      "execution_count": null,
      "metadata": {
        "id": "0FPf8BLZcLrj"
      },
      "outputs": [],
      "source": [
        "# drivewheel: frontwheel, rarewheel or four-wheel drive \n",
        "cars['drivewheel'].astype('category').value_counts()"
      ]
    },
    {
      "cell_type": "code",
      "execution_count": null,
      "metadata": {
        "id": "wUycRVV2cMKT"
      },
      "outputs": [],
      "source": [
        "# wheelbase: distance between centre of front and rarewheels\n",
        "sns.distplot(cars['wheelbase'])\n",
        "plt.show()"
      ]
    },
    {
      "cell_type": "code",
      "execution_count": null,
      "metadata": {
        "id": "zHRxLssScPuS"
      },
      "outputs": [],
      "source": [
        "# curbweight: weight of car without occupants or baggage\n",
        "sns.distplot(cars['curbweight'])\n",
        "plt.show()"
      ]
    },
    {
      "cell_type": "code",
      "execution_count": null,
      "metadata": {
        "id": "K2La1izdcRsX"
      },
      "outputs": [],
      "source": [
        "# stroke: volume of the engine (the distance traveled by the \n",
        "# piston in each cycle)\n",
        "sns.distplot(cars['stroke'])\n",
        "plt.show()"
      ]
    },
    {
      "cell_type": "code",
      "execution_count": null,
      "metadata": {
        "id": "B5652gNacTvk"
      },
      "outputs": [],
      "source": [
        "# compression ration: ration of volume of compression chamber \n",
        "# at largest capacity to least capacity\n",
        "sns.distplot(cars['compressionratio'])\n",
        "plt.show()"
      ]
    },
    {
      "cell_type": "code",
      "execution_count": null,
      "metadata": {
        "id": "Cg_vhvchcVnE"
      },
      "outputs": [],
      "source": [
        "# target variable: price of car\n",
        "sns.distplot(cars['price'])\n",
        "plt.show()"
      ]
    },
    {
      "cell_type": "code",
      "execution_count": null,
      "metadata": {
        "id": "xNPqM04Xcd8X"
      },
      "outputs": [],
      "source": [
        "cars_numeric = cars.select_dtypes(include=['float64', 'int'])\n",
        "cars_numeric.head()"
      ]
    },
    {
      "cell_type": "code",
      "execution_count": null,
      "metadata": {
        "id": "L3QJ-mj_cmW4"
      },
      "outputs": [],
      "source": [
        "# dropping symboling and car_ID \n",
        "cars_numeric = cars_numeric.drop(['symboling', 'car_ID'], axis=1)\n",
        "cars_numeric.head()"
      ]
    },
    {
      "cell_type": "code",
      "execution_count": null,
      "metadata": {
        "id": "-uZA2I7jcpFZ"
      },
      "outputs": [],
      "source": [
        "# correlation matrix\n",
        "cor = cars_numeric.corr()\n",
        "cor"
      ]
    },
    {
      "cell_type": "code",
      "execution_count": null,
      "metadata": {
        "id": "vRTUWliidKOi"
      },
      "outputs": [],
      "source": [
        "# plotting correlations on a heatmap\n",
        "\n",
        "# figure size\n",
        "plt.figure(figsize=(16,8))\n",
        "\n",
        "# heatmap\n",
        "sns.heatmap(cor, cmap=\"YlGnBu\", annot=True)\n",
        "plt.show()"
      ]
    },
    {
      "cell_type": "code",
      "execution_count": null,
      "metadata": {
        "id": "M8ssWGHYdt8D"
      },
      "outputs": [],
      "source": [
        "# variable formats\n",
        "cars.info()"
      ]
    },
    {
      "cell_type": "code",
      "execution_count": null,
      "metadata": {
        "id": "FF_T8_9-dxjY"
      },
      "outputs": [],
      "source": [
        "# converting symboling to categorical\n",
        "cars['symboling'] = cars['symboling'].astype('object')\n",
        "cars.info()"
      ]
    },
    {
      "cell_type": "code",
      "execution_count": null,
      "metadata": {
        "id": "5QZf8zMNd0Y0"
      },
      "outputs": [],
      "source": [
        "# CarName: first few entries\n",
        "cars['CarName'][:30]"
      ]
    },
    {
      "cell_type": "code",
      "execution_count": null,
      "metadata": {
        "id": "sswuBPdCd3WZ"
      },
      "outputs": [],
      "source": [
        "carnames = cars['CarName'].apply(lambda x: x.split(\" \")[0])\n",
        "carnames[:30]"
      ]
    },
    {
      "cell_type": "code",
      "execution_count": 21,
      "metadata": {
        "id": "NfxO53AmeGOr"
      },
      "outputs": [],
      "source": [
        "# New column car_company\n",
        "cars['car_company'] = cars['CarName'].apply(lambda x: x.split(\" \")[0])"
      ]
    },
    {
      "cell_type": "code",
      "execution_count": null,
      "metadata": {
        "id": "lu7DZds0eKuN"
      },
      "outputs": [],
      "source": [
        "# look at all values \n",
        "cars['car_company'].astype('category').value_counts()"
      ]
    },
    {
      "cell_type": "code",
      "execution_count": 23,
      "metadata": {
        "id": "scEN9k_5ePOS"
      },
      "outputs": [],
      "source": []
    },
    {
      "cell_type": "code",
      "execution_count": null,
      "metadata": {
        "id": "YPco7tCheh7U"
      },
      "outputs": [],
      "source": [
        "cars['car_company'].astype('category').value_counts()"
      ]
    },
    {
      "cell_type": "code",
      "execution_count": 25,
      "metadata": {
        "id": "fZM71CIeekl7"
      },
      "outputs": [],
      "source": [
        "# drop carname variable\n",
        "cars = cars.drop('CarName', axis=1)"
      ]
    },
    {
      "cell_type": "code",
      "execution_count": null,
      "metadata": {
        "id": "4ckGEpceenQv"
      },
      "outputs": [],
      "source": [
        "cars.info()"
      ]
    },
    {
      "cell_type": "code",
      "execution_count": 27,
      "metadata": {
        "id": "X1Oa4_W9en0v"
      },
      "outputs": [],
      "source": [
        "# split into X and y\n",
        "X = cars.loc[:, ['symboling', 'fueltype', 'aspiration', 'doornumber',\n",
        "       'carbody', 'drivewheel', 'enginelocation', 'wheelbase', 'carlength',\n",
        "       'carwidth', 'carheight', 'curbweight', 'enginetype', 'cylindernumber',\n",
        "       'enginesize', 'fuelsystem', 'boreratio', 'stroke', 'compressionratio',\n",
        "       'horsepower', 'peakrpm', 'citympg', 'highwaympg',\n",
        "       'car_company']]\n",
        "\n",
        "y = cars['price']"
      ]
    },
    {
      "cell_type": "code",
      "execution_count": null,
      "metadata": {
        "id": "kXurHfAxeyQc"
      },
      "outputs": [],
      "source": [
        "# creating dummy variables for categorical variables\n",
        "\n",
        "# subset all categorical variables\n",
        "cars_categorical = X.select_dtypes(include=['object'])\n",
        "cars_categorical.head()"
      ]
    },
    {
      "cell_type": "code",
      "execution_count": null,
      "metadata": {
        "id": "5cgax4Qee1yJ"
      },
      "outputs": [],
      "source": [
        "# convert into dummies\n",
        "cars_dummies = pd.get_dummies(cars_categorical, drop_first=True)\n",
        "cars_dummies.head()"
      ]
    },
    {
      "cell_type": "code",
      "execution_count": 30,
      "metadata": {
        "id": "Ehz1C6FJe7va"
      },
      "outputs": [],
      "source": [
        "# drop categorical variables \n",
        "X = X.drop(list(cars_categorical.columns), axis=1)"
      ]
    },
    {
      "cell_type": "code",
      "execution_count": 31,
      "metadata": {
        "id": "SGyk1sCBe-eN"
      },
      "outputs": [],
      "source": [
        "# concat dummy variables with X\n",
        "X = pd.concat([X, cars_dummies], axis=1)"
      ]
    },
    {
      "cell_type": "code",
      "execution_count": null,
      "metadata": {
        "id": "7ZlFJC9YfClv"
      },
      "outputs": [],
      "source": []
    },
    {
      "cell_type": "code",
      "execution_count": 33,
      "metadata": {
        "id": "sFRL8iR_fIT_"
      },
      "outputs": [],
      "source": [
        "# split into train and test\n",
        "from sklearn.model_selection import train_test_split\n",
        "X_train, X_test, y_train, y_test = train_test_split(X, y, \n",
        "                                                    train_size=0.7,\n",
        "                                                    test_size = 0.3, random_state=100)"
      ]
    },
    {
      "cell_type": "code",
      "execution_count": null,
      "metadata": {
        "id": "TBjz5wzzfRKt"
      },
      "outputs": [],
      "source": [
        "# Building the first model with all the features\n",
        "\n",
        "# instantiate\n",
        "lm = LinearRegression()\n",
        "\n",
        "# fit\n",
        "lm.fit(X_train, y_train)"
      ]
    },
    {
      "cell_type": "code",
      "execution_count": null,
      "metadata": {
        "id": "_sEPIQKLfV8m"
      },
      "outputs": [],
      "source": [
        "LinearRegression(copy_X=True, fit_intercept=True, n_jobs=1, normalize=False)"
      ]
    },
    {
      "cell_type": "code",
      "execution_count": null,
      "metadata": {
        "id": "UDQnZHDOfeO0"
      },
      "outputs": [],
      "source": [
        "# predict \n",
        "y_pred = lm.predict(X_test)\n",
        "\n",
        "# metrics\n",
        "from sklearn.metrics import r2_score\n",
        "\n",
        "print(lm.score(X_train, y_train))\n",
        "\n",
        "print(r2_score(y_true=y_test, y_pred=y_pred))"
      ]
    },
    {
      "cell_type": "code",
      "execution_count": 39,
      "metadata": {
        "id": "AWhEAYKJ5_PS"
      },
      "outputs": [],
      "source": [
        "from sklearn.preprocessing import PolynomialFeatures"
      ]
    },
    {
      "cell_type": "code",
      "execution_count": 51,
      "metadata": {
        "id": "K6-tq7Uj6CZD"
      },
      "outputs": [],
      "source": [
        "poly = PolynomialFeatures(degree=2, interaction_only=True)\n",
        "X_train2 = poly.fit_transform(X_train)\n",
        "X_test2 = poly.fit_transform(X_test)"
      ]
    },
    {
      "cell_type": "code",
      "execution_count": 52,
      "metadata": {
        "id": "mZlM7YUq6LLP"
      },
      "outputs": [],
      "source": [
        "nlm = LinearRegression()"
      ]
    },
    {
      "cell_type": "code",
      "execution_count": null,
      "metadata": {
        "id": "UqiHboP66QFX"
      },
      "outputs": [],
      "source": [
        "nlm.fit(X_train2, y_train)"
      ]
    },
    {
      "cell_type": "code",
      "execution_count": 54,
      "metadata": {
        "id": "L7sqp_lJ6XOl"
      },
      "outputs": [],
      "source": [
        "y_pred1 = nlm.predict(X_test2)"
      ]
    },
    {
      "cell_type": "code",
      "execution_count": null,
      "metadata": {
        "id": "eJFZYdeE6det"
      },
      "outputs": [],
      "source": [
        "print(nlm.score(X_train2, y_train))\n",
        "\n",
        "print(r2_score(y_true=y_test, y_pred=y_pred1))"
      ]
    }
  ],
  "metadata": {
    "colab": {
      "collapsed_sections": [],
      "name": "Car Price Prediction LR.ipynb",
      "provenance": []
    },
    "kernelspec": {
      "display_name": "Python 3",
      "name": "python3"
    },
    "language_info": {
      "name": "python"
    }
  },
  "nbformat": 4,
  "nbformat_minor": 0
}
